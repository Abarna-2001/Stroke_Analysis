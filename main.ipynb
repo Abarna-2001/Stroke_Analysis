{
 "cells": [
  {
   "cell_type": "markdown",
   "id": "18031523-cb23-4766-a9aa-d225959ce382",
   "metadata": {},
   "source": [
    "# STROKE DATA ANALYTICS\n",
    "\n",
    "This notebook is the main entry point for the *Stroke Data Analytics* project. It launches a user-friendly Tkinter GUI that lets clinicians explore a stroke dataset through 12 predefined queries.\n",
    "\n",
    "### 1. Overview\n",
    "The project consists of four files:\n",
    "- **dataset_module.py**: Loads the stroke dataset (`data.csv`) into a nested dictionary.\n",
    "- **query_module.py**: Defines 12 queries to analyze the dataset (e.g., average age of smokers with stroke) and saves results to CSV.\n",
    "- **ui_module.py**: Creates a Tkinter GUI with a dropdown for selecting queries, a text area for results, and buttons for saving to CSV or exiting.\n",
    "- **main.ipynb** (this file): Runs the GUI by calling `ui_module.run_user_interface`.\n",
    "\n",
    "The dataset (`data.csv`) contains patient data with 22 features, like Age, Hypertension, and Stroke Occurrence. The GUI makes it easy for clinicians to run queries and save results."
   ]
  },
  {
   "cell_type": "markdown",
   "id": "434f6ac9-6cdb-42af-9f72-5f6ad0e6680c",
   "metadata": {},
   "source": [
    "### 2. Setup Instructions\n",
    "This section guides users on preparing their environment to run the notebook. It lists requirements (Python, Tkinter, file placement) and explains how to handle common setup issues, like file paths or permissions. \n",
    "\n",
    "Before running this notebook, let’s get everything set up:\n",
    "\n",
    "1. **Python**: Make sure you have Python installed. You can check by running `python3 --version` in your terminal.\n",
    "2. **Tkinter**: This is usually included with Python. On Linux, you might need to install it with `sudo apt-get install python3-tk`.\n",
    "3. **Dataset file**: Place `data.csv` in the same folder as this notebook. If it’s elsewhere, update the `data_file` path in the code below.\n",
    "4. **Project files**: Ensure these Python files are in the same folder as this notebook:\n",
    "   - `dataset_module.py`\n",
    "   - `query_module.py`\n",
    "   - `ui_module.py`\n",
    "5. **Write permissions**: For saving CSVs, the current folder needs write access. On Linux, run `chmod u+w .` in your terminal if you see permission errors.\n",
    "\n",
    "If you’re using a Jupyter environment like VS Code or Jupyter Notebook, you’re good to go! These support Tkinter’s GUI popups."
   ]
  },
  {
   "cell_type": "markdown",
   "id": "c08bb6bb-be7c-4e2b-a0f6-9d29dd5cdc5b",
   "metadata": {},
   "source": [
    "### 3. How to Run\n",
    "1. Open this notebook in a Jupyter environment that supports GUI popups (e.g., VS Code, Jupyter Notebook).\n",
    "2. Run the code cell below to launch the GUI.\n",
    "3. In the GUI:\n",
    "   - Select a query from the dropdown (e.g., \"1. Average, modal, and median age...\").\n",
    "   - For Query 10, enter a feature name (e.g., \"Age\").\n",
    "   - Click \"Run Query\" to see results.\n",
    "   - Click \"Save to CSV\" to save results to a file.\n",
    "   - Click \"Exit\" to close the GUI.\n",
    "\n",
    "If any errors (e.g., file not found), check the file path and permissions."
   ]
  },
  {
   "cell_type": "markdown",
   "id": "969b1d76-f4af-4100-9ad2-ba7d80381c11",
   "metadata": {},
   "source": [
    "### 4. Launch GUI with the dataset\n",
    "\n",
    "It launches the Stroke Data Analytics GUI to explore the stroke dataset\n"
   ]
  },
  {
   "cell_type": "code",
   "execution_count": 3,
   "id": "f5d2bef8-9a92-45d6-9ab3-c2e6d282c78a",
   "metadata": {},
   "outputs": [
    {
     "name": "stdout",
     "output_type": "stream",
     "text": [
      "Starting the Stroke Data Analytics GUI with data.csv...\n",
      "Trying to load dataset from data.csv...\n",
      "Successfully loaded 172000 patient records!\n",
      "GUI closed. Thanks for using Stroke Data Analytics!\n"
     ]
    }
   ],
   "source": [
    "# Import Modules\n",
    "import sys\n",
    "import os\n",
    "from ui_module import run_user_interface\n",
    "\n",
    "# Ensure the current directory is in the Python path to find our modules\n",
    "sys.path.append(os.getcwd())\n",
    "\n",
    "# Path to the stroke dataset file\n",
    "data_file = \"data.csv\"\n",
    "\n",
    "# Check if the dataset file exists to avoid errors\n",
    "if not os.path.isfile(data_file):\n",
    "    print(f\"Error: Couldn’t find {data_file}. Please check the file path.\")\n",
    "else:\n",
    "    try:\n",
    "        # Launch the GUI with the dataset\n",
    "        print(f\"Starting the Stroke Data Analytics GUI with {data_file}...\")\n",
    "        run_user_interface(data_file)\n",
    "        print(\"GUI closed. Thanks for using Stroke Data Analytics!\")\n",
    "    except Exception as e:\n",
    "        # Show an error if something goes wrong\n",
    "        print(f\"Oops, something went wrong: {str(e)}\")\n",
    "        print(\"Make sure Tkinter is installed and your environment supports GUI popups.\")"
   ]
  },
  {
   "cell_type": "markdown",
   "id": "f931ec5f-31b5-488c-81e8-ad801c86a1f2",
   "metadata": {},
   "source": []
  }
 ],
 "metadata": {
  "kernelspec": {
   "display_name": "Python [conda env:base] *",
   "language": "python",
   "name": "conda-base-py"
  },
  "language_info": {
   "codemirror_mode": {
    "name": "ipython",
    "version": 3
   },
   "file_extension": ".py",
   "mimetype": "text/x-python",
   "name": "python",
   "nbconvert_exporter": "python",
   "pygments_lexer": "ipython3",
   "version": "3.12.7"
  }
 },
 "nbformat": 4,
 "nbformat_minor": 5
}
